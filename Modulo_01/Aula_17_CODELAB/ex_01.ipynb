{
 "cells": [
  {
   "cell_type": "markdown",
   "metadata": {},
   "source": [
    "##### 1. Faça a importação do módulo Pandas"
   ]
  },
  {
   "cell_type": "code",
   "execution_count": 75,
   "metadata": {},
   "outputs": [],
   "source": [
    "import pandas as pd"
   ]
  },
  {
   "cell_type": "markdown",
   "metadata": {},
   "source": [
    "##### 2. Crie um Dataframe com as séries: Nome, Idade, prato favorito. Preencha com seus dados e da sua família. Fique a vontade para adicionar novas colunas."
   ]
  },
  {
   "cell_type": "code",
   "execution_count": 76,
   "metadata": {},
   "outputs": [],
   "source": [
    "df = pd.DataFrame(\n",
    "    {\n",
    "        'Nome': ['Bruno', 'Rosa', 'Marcelino' ],\n",
    "        'Idade': [29, 59, 62],\n",
    "        'Prato Favorito': ['Pizza', 'Feijoada', 'Carne de Bode']\n",
    "    }\n",
    ")"
   ]
  },
  {
   "cell_type": "markdown",
   "metadata": {},
   "source": [
    "##### 3. Qual a idade média da sua família?"
   ]
  },
  {
   "cell_type": "code",
   "execution_count": 154,
   "metadata": {},
   "outputs": [
    {
     "name": "stdout",
     "output_type": "stream",
     "text": [
      "A idade média da minha familia é 50.0 anos\n"
     ]
    }
   ],
   "source": [
    "print(f'A idade média da minha familia é {df[\"Idade\"].mean()} anos')"
   ]
  },
  {
   "cell_type": "markdown",
   "metadata": {},
   "source": [
    "##### 4. Qual a maior e a menor idade de sua família?"
   ]
  },
  {
   "cell_type": "code",
   "execution_count": 156,
   "metadata": {},
   "outputs": [
    {
     "name": "stdout",
     "output_type": "stream",
     "text": [
      "A maior idade da minha familia é de 62 anos e a menos idade de 29 \n"
     ]
    }
   ],
   "source": [
    "print(f'A maior idade da minha familia é de {df[\"Idade\"].max()} anos e a menos idade de {df[\"Idade\"].min()} ')"
   ]
  },
  {
   "cell_type": "markdown",
   "metadata": {},
   "source": [
    "##### 5. Faça uma pesquina na internet e busque os seguintes dados:\n",
    "Nome dos estados brasileiros;\n",
    "Sigla dos estados;\n",
    "Região;\n",
    "Capital;\n",
    "Polulação.\n",
    "\n",
    "##### 6. Adicione estas informações em um Datafrane;"
   ]
  },
  {
   "cell_type": "code",
   "execution_count": 80,
   "metadata": {},
   "outputs": [],
   "source": [
    "df_estados = pd.DataFrame(\n",
    "    {\n",
    "        'Estado': ['Acre','Alagoas','Amapá','Amazonas','Bahia','Ceará','Distrito Federal','Espírito Santo','Goiás','Maranhão','Mato Grosso','Mato Grosso do Sul','Minas Gerais','Pará','Paraíba','Paraná','Pernambuco','Piauí','Rio de Janeiro','Rio Grande do Norte','Rio Grande do Sul','Rondônia','Roraima','Santa Catarina','São Paulo','Sergipe','Tocantins'],\n",
    "\n",
    "        'Sigla': ['AC','AL','AP','AM','BA','CE','DF','ES','GO','MA','MT','MS','MG','PA','PB','PR','PE','PI','RJ','RN','RS','RO','RR','SC','SP','SE','TO'],\n",
    "\n",
    "        'Região': ['Norte', 'Nordeste', 'Norte','Norte','Nordeste','Nordeste','Centro-Oeste', 'Sudeste','Centro-Oeste','Nordeste','Centro-Oeste', 'Centro-Oeste','Sudeste','Norte','Nordeste','Sul','Nordeste','Nordeste','Sudeste','Nordeste','Sul','Norte','Norte','Sul','Sudeste','Nordeste','Norte'],\n",
    "\n",
    "        'Capital': ['Rio Branco','Maceió','Macapá','Manaus','Salvador','Fortaleza','Brasília','Vitória','Goiânia','São Luís','Cuiabá','Campo Grande','Belo Horizonte','Belém','João Pessoa','Curitiba','Recife','Teresina','Rio de Janeiro','Natal','Porto Alegre','Porto Velho','Boa Vista','Florianópolis','São Paulo','Aracaju','Palmas'],\n",
    "\n",
    "        'População': [ 790101, 3120494, 669526, 3483985, 14016906, 8452381, 2570160, 3514952, 6003788, 6574789, 3035122, 2449024, 19597330, 7581051, 3766528, 10444526, 8796448, 3118360, 15989929, 3168027, 10693929, 1562409, 450479, 6248436, 41262199, 2068017, 1383445 ]\n",
    "}\n",
    ")"
   ]
  },
  {
   "cell_type": "markdown",
   "metadata": {},
   "source": [
    "##### 7. Exiba na tela apenas a sigla e a população;"
   ]
  },
  {
   "cell_type": "code",
   "execution_count": 82,
   "metadata": {},
   "outputs": [
    {
     "data": {
      "text/html": [
       "<div>\n",
       "<style scoped>\n",
       "    .dataframe tbody tr th:only-of-type {\n",
       "        vertical-align: middle;\n",
       "    }\n",
       "\n",
       "    .dataframe tbody tr th {\n",
       "        vertical-align: top;\n",
       "    }\n",
       "\n",
       "    .dataframe thead th {\n",
       "        text-align: right;\n",
       "    }\n",
       "</style>\n",
       "<table border=\"1\" class=\"dataframe\">\n",
       "  <thead>\n",
       "    <tr style=\"text-align: right;\">\n",
       "      <th></th>\n",
       "      <th>Sigla</th>\n",
       "      <th>População</th>\n",
       "    </tr>\n",
       "  </thead>\n",
       "  <tbody>\n",
       "    <tr>\n",
       "      <th>0</th>\n",
       "      <td>AC</td>\n",
       "      <td>790101</td>\n",
       "    </tr>\n",
       "    <tr>\n",
       "      <th>1</th>\n",
       "      <td>AL</td>\n",
       "      <td>3120494</td>\n",
       "    </tr>\n",
       "    <tr>\n",
       "      <th>2</th>\n",
       "      <td>AP</td>\n",
       "      <td>669526</td>\n",
       "    </tr>\n",
       "    <tr>\n",
       "      <th>3</th>\n",
       "      <td>AM</td>\n",
       "      <td>3483985</td>\n",
       "    </tr>\n",
       "    <tr>\n",
       "      <th>4</th>\n",
       "      <td>BA</td>\n",
       "      <td>14016906</td>\n",
       "    </tr>\n",
       "    <tr>\n",
       "      <th>5</th>\n",
       "      <td>CE</td>\n",
       "      <td>8452381</td>\n",
       "    </tr>\n",
       "    <tr>\n",
       "      <th>6</th>\n",
       "      <td>DF</td>\n",
       "      <td>2570160</td>\n",
       "    </tr>\n",
       "    <tr>\n",
       "      <th>7</th>\n",
       "      <td>ES</td>\n",
       "      <td>3514952</td>\n",
       "    </tr>\n",
       "    <tr>\n",
       "      <th>8</th>\n",
       "      <td>GO</td>\n",
       "      <td>6003788</td>\n",
       "    </tr>\n",
       "    <tr>\n",
       "      <th>9</th>\n",
       "      <td>MA</td>\n",
       "      <td>6574789</td>\n",
       "    </tr>\n",
       "    <tr>\n",
       "      <th>10</th>\n",
       "      <td>MT</td>\n",
       "      <td>3035122</td>\n",
       "    </tr>\n",
       "    <tr>\n",
       "      <th>11</th>\n",
       "      <td>MS</td>\n",
       "      <td>2449024</td>\n",
       "    </tr>\n",
       "    <tr>\n",
       "      <th>12</th>\n",
       "      <td>MG</td>\n",
       "      <td>19597330</td>\n",
       "    </tr>\n",
       "    <tr>\n",
       "      <th>13</th>\n",
       "      <td>PA</td>\n",
       "      <td>7581051</td>\n",
       "    </tr>\n",
       "    <tr>\n",
       "      <th>14</th>\n",
       "      <td>PB</td>\n",
       "      <td>3766528</td>\n",
       "    </tr>\n",
       "    <tr>\n",
       "      <th>15</th>\n",
       "      <td>PR</td>\n",
       "      <td>10444526</td>\n",
       "    </tr>\n",
       "    <tr>\n",
       "      <th>16</th>\n",
       "      <td>PE</td>\n",
       "      <td>8796448</td>\n",
       "    </tr>\n",
       "    <tr>\n",
       "      <th>17</th>\n",
       "      <td>PI</td>\n",
       "      <td>3118360</td>\n",
       "    </tr>\n",
       "    <tr>\n",
       "      <th>18</th>\n",
       "      <td>RJ</td>\n",
       "      <td>15989929</td>\n",
       "    </tr>\n",
       "    <tr>\n",
       "      <th>19</th>\n",
       "      <td>RN</td>\n",
       "      <td>3168027</td>\n",
       "    </tr>\n",
       "    <tr>\n",
       "      <th>20</th>\n",
       "      <td>RS</td>\n",
       "      <td>10693929</td>\n",
       "    </tr>\n",
       "    <tr>\n",
       "      <th>21</th>\n",
       "      <td>RO</td>\n",
       "      <td>1562409</td>\n",
       "    </tr>\n",
       "    <tr>\n",
       "      <th>22</th>\n",
       "      <td>RR</td>\n",
       "      <td>450479</td>\n",
       "    </tr>\n",
       "    <tr>\n",
       "      <th>23</th>\n",
       "      <td>SC</td>\n",
       "      <td>6248436</td>\n",
       "    </tr>\n",
       "    <tr>\n",
       "      <th>24</th>\n",
       "      <td>SP</td>\n",
       "      <td>41262199</td>\n",
       "    </tr>\n",
       "    <tr>\n",
       "      <th>25</th>\n",
       "      <td>SE</td>\n",
       "      <td>2068017</td>\n",
       "    </tr>\n",
       "    <tr>\n",
       "      <th>26</th>\n",
       "      <td>TO</td>\n",
       "      <td>1383445</td>\n",
       "    </tr>\n",
       "  </tbody>\n",
       "</table>\n",
       "</div>"
      ],
      "text/plain": [
       "   Sigla  População\n",
       "0     AC     790101\n",
       "1     AL    3120494\n",
       "2     AP     669526\n",
       "3     AM    3483985\n",
       "4     BA   14016906\n",
       "5     CE    8452381\n",
       "6     DF    2570160\n",
       "7     ES    3514952\n",
       "8     GO    6003788\n",
       "9     MA    6574789\n",
       "10    MT    3035122\n",
       "11    MS    2449024\n",
       "12    MG   19597330\n",
       "13    PA    7581051\n",
       "14    PB    3766528\n",
       "15    PR   10444526\n",
       "16    PE    8796448\n",
       "17    PI    3118360\n",
       "18    RJ   15989929\n",
       "19    RN    3168027\n",
       "20    RS   10693929\n",
       "21    RO    1562409\n",
       "22    RR     450479\n",
       "23    SC    6248436\n",
       "24    SP   41262199\n",
       "25    SE    2068017\n",
       "26    TO    1383445"
      ]
     },
     "execution_count": 82,
     "metadata": {},
     "output_type": "execute_result"
    }
   ],
   "source": [
    "df_estados[['Sigla','População']]"
   ]
  },
  {
   "cell_type": "markdown",
   "metadata": {},
   "source": [
    "##### 8. Qual o estado com a maior população?"
   ]
  },
  {
   "cell_type": "code",
   "execution_count": 84,
   "metadata": {},
   "outputs": [
    {
     "data": {
      "text/html": [
       "<div>\n",
       "<style scoped>\n",
       "    .dataframe tbody tr th:only-of-type {\n",
       "        vertical-align: middle;\n",
       "    }\n",
       "\n",
       "    .dataframe tbody tr th {\n",
       "        vertical-align: top;\n",
       "    }\n",
       "\n",
       "    .dataframe thead th {\n",
       "        text-align: right;\n",
       "    }\n",
       "</style>\n",
       "<table border=\"1\" class=\"dataframe\">\n",
       "  <thead>\n",
       "    <tr style=\"text-align: right;\">\n",
       "      <th></th>\n",
       "      <th>Estado</th>\n",
       "      <th>Sigla</th>\n",
       "      <th>Região</th>\n",
       "      <th>Capital</th>\n",
       "      <th>População</th>\n",
       "    </tr>\n",
       "  </thead>\n",
       "  <tbody>\n",
       "    <tr>\n",
       "      <th>24</th>\n",
       "      <td>São Paulo</td>\n",
       "      <td>SP</td>\n",
       "      <td>Sudeste</td>\n",
       "      <td>São Paulo</td>\n",
       "      <td>41262199</td>\n",
       "    </tr>\n",
       "  </tbody>\n",
       "</table>\n",
       "</div>"
      ],
      "text/plain": [
       "       Estado Sigla   Região    Capital  População\n",
       "24  São Paulo    SP  Sudeste  São Paulo   41262199"
      ]
     },
     "execution_count": 84,
     "metadata": {},
     "output_type": "execute_result"
    }
   ],
   "source": [
    "df_estados[df_estados['População'] == df_estados['População'].max()]"
   ]
  },
  {
   "cell_type": "markdown",
   "metadata": {},
   "source": [
    "##### 9. Qual a quantidade de estados?"
   ]
  },
  {
   "cell_type": "code",
   "execution_count": 159,
   "metadata": {},
   "outputs": [
    {
     "name": "stdout",
     "output_type": "stream",
     "text": [
      "São 27 estados ao todo.\n"
     ]
    }
   ],
   "source": [
    "print(f'São {df_estados[\"Estado\"].count()} estados ao todo.')"
   ]
  },
  {
   "cell_type": "markdown",
   "metadata": {},
   "source": [
    "##### 10. Crie novos Dataframes a partir do conjunto principal. Crie um Dataframe para cada uma das regiões."
   ]
  },
  {
   "cell_type": "code",
   "execution_count": 86,
   "metadata": {},
   "outputs": [],
   "source": [
    "df_norte = df_estados[df_estados['Região'] == 'Norte']\n",
    "df_nordeste = df_estados[df_estados['Região'] == 'Nordeste']\n",
    "df_sudeste = df_estados[df_estados['Região'] == 'Sudeste']\n",
    "df_centro_oeste = df_estados[df_estados['Região'] == 'Centro-Oeste']\n",
    "df_sul = df_estados[df_estados['Região'] == 'Sul']"
   ]
  },
  {
   "cell_type": "markdown",
   "metadata": {},
   "source": [
    "##### 11. Quantidade de estados por região?"
   ]
  },
  {
   "cell_type": "code",
   "execution_count": 99,
   "metadata": {},
   "outputs": [
    {
     "name": "stdout",
     "output_type": "stream",
     "text": [
      "Estados do Norte 7\n",
      "Estados do Nordeste 9\n",
      "Estados do Sudeste 4\n",
      "Estados do Centro-Oeste 4\n",
      "Estados do Sul 3\n"
     ]
    }
   ],
   "source": [
    "print(f'Estados do Norte {df_norte[\"Estado\"].count()}')\n",
    "print(f'Estados do Nordeste {df_nordeste[\"Estado\"].count()}')\n",
    "print(f'Estados do Sudeste {df_sudeste[\"Estado\"].count()}')\n",
    "print(f'Estados do Centro-Oeste {df_centro_oeste[\"Estado\"].count()}')\n",
    "print(f'Estados do Sul {df_sul[\"Estado\"].count()}')"
   ]
  },
  {
   "cell_type": "markdown",
   "metadata": {},
   "source": [
    "##### 12. Polulação total de cada região?"
   ]
  },
  {
   "cell_type": "code",
   "execution_count": 168,
   "metadata": {},
   "outputs": [
    {
     "name": "stdout",
     "output_type": "stream",
     "text": [
      "População total da região Norte 15920996\n",
      "População total da região Nordeste 53081950\n",
      "População total da região Sudeste 80364410\n",
      "População total da região Centro-Oeste 14058094\n",
      "População total da região Sul 27386891\n"
     ]
    }
   ],
   "source": [
    "print(f'População total da região Norte {df_norte[\"População\"].sum()}')\n",
    "print(f'População total da região Nordeste {df_nordeste[\"População\"].sum()}')\n",
    "print(f'População total da região Sudeste {df_sudeste[\"População\"].sum()}')\n",
    "print(f'População total da região Centro-Oeste {df_centro_oeste[\"População\"].sum()}')\n",
    "print(f'População total da região Sul {df_sul[\"População\"].sum()}')"
   ]
  },
  {
   "cell_type": "markdown",
   "metadata": {},
   "source": [
    "##### 13. Qual região com a maior população?"
   ]
  },
  {
   "cell_type": "code",
   "execution_count": 164,
   "metadata": {},
   "outputs": [
    {
     "name": "stdout",
     "output_type": "stream",
     "text": [
      "A região com a maior população é a Sudeste com 80364410 de habitantes\n"
     ]
    }
   ],
   "source": [
    "soma = df_nordeste[\"População\"].sum(), df_norte[\"População\"].sum(), df_centro_oeste[\"População\"].sum(), df_sudeste[\"População\"].sum(), df_sul[\"População\"].sum()\n",
    "print(f'A região com a maior população é a Sudeste com {max(soma)} de habitantes')\n"
   ]
  },
  {
   "cell_type": "markdown",
   "metadata": {},
   "source": [
    "##### 14. Qual a regiçao com a menor população?"
   ]
  },
  {
   "cell_type": "code",
   "execution_count": 165,
   "metadata": {},
   "outputs": [
    {
     "name": "stdout",
     "output_type": "stream",
     "text": [
      "A região com a menor população é a Centro-Oeste com 14058094 de habitantes\n"
     ]
    }
   ],
   "source": [
    "print(f'A região com a menor população é a Centro-Oeste com {min(soma)} de habitantes')"
   ]
  },
  {
   "cell_type": "markdown",
   "metadata": {},
   "source": [
    "##### 15. Qual a população média de cada região?"
   ]
  },
  {
   "cell_type": "code",
   "execution_count": 167,
   "metadata": {},
   "outputs": [
    {
     "name": "stdout",
     "output_type": "stream",
     "text": [
      "População média da região Norte 2274428.0\n",
      "População média da região Nordeste 5897994.44\n",
      "População média da região Sudeste 20091102.50\n",
      "População média da região Centro-Oeste 3514523.50\n",
      "População média da região Sul 9128963.67\n"
     ]
    }
   ],
   "source": [
    "print(f'População média da região Norte {df_norte[\"População\"].mean()}')\n",
    "print(f'População média da região Nordeste {df_nordeste[\"População\"].mean():.2f}')\n",
    "print(f'População média da região Sudeste {df_sudeste[\"População\"].mean():.2f}')\n",
    "print(f'População média da região Centro-Oeste {df_centro_oeste[\"População\"].mean():.2f}')\n",
    "print(f'População média da região Sul {df_sul[\"População\"].mean():.2f}')"
   ]
  }
 ],
 "metadata": {
  "interpreter": {
   "hash": "e5d19bdb9d744532f2b9d6795377b2f560e342f547210214dba46f9441762972"
  },
  "kernelspec": {
   "display_name": "Python 3.8.8",
   "language": "python",
   "name": "python3"
  },
  "language_info": {
   "codemirror_mode": {
    "name": "ipython",
    "version": 3
   },
   "file_extension": ".py",
   "mimetype": "text/x-python",
   "name": "python",
   "nbconvert_exporter": "python",
   "pygments_lexer": "ipython3",
   "version": "3.8.8"
  },
  "orig_nbformat": 4
 },
 "nbformat": 4,
 "nbformat_minor": 2
}
