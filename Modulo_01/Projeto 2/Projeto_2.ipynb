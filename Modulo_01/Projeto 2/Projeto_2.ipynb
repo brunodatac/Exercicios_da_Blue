{
 "cells": [
  {
   "cell_type": "code",
   "execution_count": 1,
   "metadata": {},
   "outputs": [],
   "source": [
    "from sklearn import datasets\n",
    "import pandas as pd\n",
    "import numpy as np\n"
   ]
  },
  {
   "cell_type": "code",
   "execution_count": 2,
   "metadata": {},
   "outputs": [],
   "source": [
    "iris = datasets.load_iris()\n",
    "dados = pd.DataFrame(data = np.c_[iris['data'], iris['target']], columns= iris['feature_names'] + ['target'])\n"
   ]
  },
  {
   "cell_type": "markdown",
   "metadata": {},
   "source": [
    "## **Modelo n.1**"
   ]
  },
  {
   "cell_type": "markdown",
   "metadata": {},
   "source": [
    "Função para a árvore de decisão mais complexa, onde irá retornar a classificação das novas flores."
   ]
  },
  {
   "cell_type": "code",
   "execution_count": 3,
   "metadata": {},
   "outputs": [],
   "source": [
    "def arvore_complexa(p_length, p_width, s_width):\n",
    "    if p_length <= 2.45:\n",
    "        return 0\n",
    "    else:   \n",
    "        if p_width <= 1.75:\n",
    "            if p_length <= 4.95:\n",
    "                if p_width <= 1.65:\n",
    "                    return 1\n",
    "                else:\n",
    "                    return 2\n",
    "            else:\n",
    "                if p_width <= 1.55:\n",
    "                    return 2\n",
    "                else:\n",
    "                    return 1\n",
    "        else:\n",
    "            if p_length <= 4.85:\n",
    "                if s_width <= 3.1:\n",
    "                    return 2\n",
    "                else:\n",
    "                    return 1\n",
    "            else:\n",
    "                return 2\n"
   ]
  },
  {
   "cell_type": "markdown",
   "metadata": {},
   "source": [
    "### *Classificação do modelo n.1*\n",
    "\n",
    "*As flores foram classificadas da seguinte forma:*\n",
    "- 0 : setosa\n",
    "- 1 : versicolor\n",
    "- 2 : virginica\n",
    "\n",
    "Foi utilizado um laço de repetição para a criação de um dataframe (df_modelo_um) com uma coluna chamada 'Modelo1'. A partir desse novo dataframe, foram comparados os resultados das estimativas da função 'arvore_complexa' para classificar as iris que foram adicionadas em 'df_modelo_um'.\n",
    "\n",
    "Posteriormente, houve a comparação entre as colunas 'target' do datafreme principal, com a coluna 'Modelo1' do novo dataframe. Os resultados corretos das previsões das iris foram utilizados para o calculo da acuracia do modelo.\n"
   ]
  },
  {
   "cell_type": "code",
   "execution_count": 4,
   "metadata": {},
   "outputs": [
    {
     "name": "stdout",
     "output_type": "stream",
     "text": [
      "A função para classificar as iris obteve um resultado em sua acuracia de 0.99% para definir as classes corretamente.\n",
      "Os erros podem ser visualizados abaixo:\n"
     ]
    },
    {
     "data": {
      "text/html": [
       "<div>\n",
       "<style scoped>\n",
       "    .dataframe tbody tr th:only-of-type {\n",
       "        vertical-align: middle;\n",
       "    }\n",
       "\n",
       "    .dataframe tbody tr th {\n",
       "        vertical-align: top;\n",
       "    }\n",
       "\n",
       "    .dataframe thead th {\n",
       "        text-align: right;\n",
       "    }\n",
       "</style>\n",
       "<table border=\"1\" class=\"dataframe\">\n",
       "  <thead>\n",
       "    <tr style=\"text-align: right;\">\n",
       "      <th></th>\n",
       "      <th>sepal length (cm)</th>\n",
       "      <th>sepal width (cm)</th>\n",
       "      <th>petal length (cm)</th>\n",
       "      <th>petal width (cm)</th>\n",
       "      <th>target</th>\n",
       "      <th>Modelo1</th>\n",
       "    </tr>\n",
       "  </thead>\n",
       "  <tbody>\n",
       "    <tr>\n",
       "      <th>129</th>\n",
       "      <td>7.2</td>\n",
       "      <td>3.0</td>\n",
       "      <td>5.8</td>\n",
       "      <td>1.6</td>\n",
       "      <td>2.0</td>\n",
       "      <td>1</td>\n",
       "    </tr>\n",
       "  </tbody>\n",
       "</table>\n",
       "</div>"
      ],
      "text/plain": [
       "     sepal length (cm)  sepal width (cm)  petal length (cm)  petal width (cm)  \\\n",
       "129                7.2               3.0                5.8               1.6   \n",
       "\n",
       "     target  Modelo1  \n",
       "129     2.0        1  "
      ]
     },
     "execution_count": 4,
     "metadata": {},
     "output_type": "execute_result"
    }
   ],
   "source": [
    "lista = []\n",
    "df_modelo_um = dados\n",
    "df_modelo_um['Modelo1'] = 0\n",
    "\n",
    "for i in range(len(dados['target'])):\n",
    "    lista.append(arvore_complexa(dados['petal length (cm)'][i], dados['petal width (cm)'][i], dados['sepal width (cm)'][i]))\n",
    "\n",
    "df_modelo_um['Modelo1'] = lista\n",
    "acertos = df_modelo_um['Modelo1'] == dados['target']\n",
    "acuracia = len(dados[acertos]) / len(dados['target'])\n",
    "\n",
    "erros = df_modelo_um['Modelo1'] != dados['target']\n",
    "erros = dados[erros]\n",
    "\n",
    "print(f'A função para classificar as iris obteve um resultado em sua acuracia de {acuracia:.2f}% para definir as classes corretamente.')\n",
    "print('Os erros podem ser visualizados abaixo:')\n",
    "erros\n"
   ]
  },
  {
   "cell_type": "markdown",
   "metadata": {},
   "source": [
    "Os erros da estimativa da classificação foram adicionados a um filtro (erros) para melhor visualização das iris que a função NÃO acertou. A coluna 'target' indica qual o tipo correto da iris, enquanto a coluna 'Modelo1' indica a previsão do modelo em classificar o tipo da iris; que nesse caso especifico foi a iris-virginica."
   ]
  },
  {
   "cell_type": "markdown",
   "metadata": {},
   "source": [
    "## **Modelo n.2**"
   ]
  },
  {
   "cell_type": "markdown",
   "metadata": {},
   "source": [
    "Função para a árvore de decisão mais simples, onde irá retornar a classificação das novas flores."
   ]
  },
  {
   "cell_type": "code",
   "execution_count": 5,
   "metadata": {},
   "outputs": [],
   "source": [
    "def arvore_simples(dados):\n",
    "\n",
    "    if dados['petal length (cm)'] <= 2.45:\n",
    "        flor = 0\n",
    "    elif dados['petal width (cm)'] <= 1.75:\n",
    "        flor = 1\n",
    "    else:\n",
    "        flor = 2\n",
    "    return flor\n"
   ]
  },
  {
   "cell_type": "markdown",
   "metadata": {},
   "source": [
    "### *Classificação do modelo n.2*\n",
    "\n",
    "Foi utilizado o método '.apply()' para a criação de um dataframe (df_modelo_dois) com uma coluna chamada 'Modelo2'. A partir desse novo dataframe, foram comparados os resultados das estimativas da função 'arvore_simples' em classificar as iris que foram adicionadas em 'df_modelo_dois'.\n",
    "\n",
    "Como no 'Modelo1', houve a comparação entre as colunas 'target' do datafreme principal, com a coluna 'Modelo2' do novo dataframe. Os resultados corretos das previsões das iris foram utilizados para o calculo da acuracia do modelo.\n"
   ]
  },
  {
   "cell_type": "code",
   "execution_count": 6,
   "metadata": {},
   "outputs": [
    {
     "name": "stdout",
     "output_type": "stream",
     "text": [
      "A função para classificar as iris obteve um resultado em sua acuracia de 0.96% para definir as classes corretamente.\n",
      "Os erros podem ser visualizados abaixo:\n"
     ]
    },
    {
     "data": {
      "text/html": [
       "<div>\n",
       "<style scoped>\n",
       "    .dataframe tbody tr th:only-of-type {\n",
       "        vertical-align: middle;\n",
       "    }\n",
       "\n",
       "    .dataframe tbody tr th {\n",
       "        vertical-align: top;\n",
       "    }\n",
       "\n",
       "    .dataframe thead th {\n",
       "        text-align: right;\n",
       "    }\n",
       "</style>\n",
       "<table border=\"1\" class=\"dataframe\">\n",
       "  <thead>\n",
       "    <tr style=\"text-align: right;\">\n",
       "      <th></th>\n",
       "      <th>sepal length (cm)</th>\n",
       "      <th>sepal width (cm)</th>\n",
       "      <th>petal length (cm)</th>\n",
       "      <th>petal width (cm)</th>\n",
       "      <th>target</th>\n",
       "      <th>Modelo1</th>\n",
       "      <th>Modelo2</th>\n",
       "    </tr>\n",
       "  </thead>\n",
       "  <tbody>\n",
       "    <tr>\n",
       "      <th>70</th>\n",
       "      <td>5.9</td>\n",
       "      <td>3.2</td>\n",
       "      <td>4.8</td>\n",
       "      <td>1.8</td>\n",
       "      <td>1.0</td>\n",
       "      <td>1</td>\n",
       "      <td>2</td>\n",
       "    </tr>\n",
       "    <tr>\n",
       "      <th>106</th>\n",
       "      <td>4.9</td>\n",
       "      <td>2.5</td>\n",
       "      <td>4.5</td>\n",
       "      <td>1.7</td>\n",
       "      <td>2.0</td>\n",
       "      <td>2</td>\n",
       "      <td>1</td>\n",
       "    </tr>\n",
       "    <tr>\n",
       "      <th>119</th>\n",
       "      <td>6.0</td>\n",
       "      <td>2.2</td>\n",
       "      <td>5.0</td>\n",
       "      <td>1.5</td>\n",
       "      <td>2.0</td>\n",
       "      <td>2</td>\n",
       "      <td>1</td>\n",
       "    </tr>\n",
       "    <tr>\n",
       "      <th>129</th>\n",
       "      <td>7.2</td>\n",
       "      <td>3.0</td>\n",
       "      <td>5.8</td>\n",
       "      <td>1.6</td>\n",
       "      <td>2.0</td>\n",
       "      <td>1</td>\n",
       "      <td>1</td>\n",
       "    </tr>\n",
       "    <tr>\n",
       "      <th>133</th>\n",
       "      <td>6.3</td>\n",
       "      <td>2.8</td>\n",
       "      <td>5.1</td>\n",
       "      <td>1.5</td>\n",
       "      <td>2.0</td>\n",
       "      <td>2</td>\n",
       "      <td>1</td>\n",
       "    </tr>\n",
       "    <tr>\n",
       "      <th>134</th>\n",
       "      <td>6.1</td>\n",
       "      <td>2.6</td>\n",
       "      <td>5.6</td>\n",
       "      <td>1.4</td>\n",
       "      <td>2.0</td>\n",
       "      <td>2</td>\n",
       "      <td>1</td>\n",
       "    </tr>\n",
       "  </tbody>\n",
       "</table>\n",
       "</div>"
      ],
      "text/plain": [
       "     sepal length (cm)  sepal width (cm)  petal length (cm)  petal width (cm)  \\\n",
       "70                 5.9               3.2                4.8               1.8   \n",
       "106                4.9               2.5                4.5               1.7   \n",
       "119                6.0               2.2                5.0               1.5   \n",
       "129                7.2               3.0                5.8               1.6   \n",
       "133                6.3               2.8                5.1               1.5   \n",
       "134                6.1               2.6                5.6               1.4   \n",
       "\n",
       "     target  Modelo1  Modelo2  \n",
       "70      1.0        1        2  \n",
       "106     2.0        2        1  \n",
       "119     2.0        2        1  \n",
       "129     2.0        1        1  \n",
       "133     2.0        2        1  \n",
       "134     2.0        2        1  "
      ]
     },
     "execution_count": 6,
     "metadata": {},
     "output_type": "execute_result"
    }
   ],
   "source": [
    "df_modelo_dois = dados\n",
    "df_modelo_dois['Modelo2'] = dados.apply(arvore_simples, axis = 1)\n",
    "\n",
    "acertos_2 = df_modelo_um['Modelo2'] == dados['target']\n",
    "acuracia_2 = len(dados[acertos_2]) / len(dados['target'])\n",
    "\n",
    "erros_2 = df_modelo_dois['Modelo2'] != dados['target']\n",
    "erros_2 = dados[erros_2]\n",
    "\n",
    "print(f'A função para classificar as iris obteve um resultado em sua acuracia de {acuracia_2:.2f}% para definir as classes corretamente.')\n",
    "print('Os erros podem ser visualizados abaixo:')\n",
    "erros_2\n"
   ]
  },
  {
   "cell_type": "markdown",
   "metadata": {},
   "source": [
    "Da mesma forma do 'Modelo1', erros da estimativa da classificação do 'Modelo2' foram adicionados a um filtro (erros) para melhor visualização das iris que a função NÃO acertou. A coluna 'target' indica qual o tipo correto da iris, enquanto a coluna 'Modelo2' indica a previsão do modelo em classificar o tipo da iris; que nesse caso também errou em classificar as iris-virginica."
   ]
  },
  {
   "cell_type": "markdown",
   "metadata": {},
   "source": [
    "## **Conclusões das analises dos modelos**"
   ]
  },
  {
   "cell_type": "markdown",
   "metadata": {},
   "source": [
    "##### ***Qual o tipo de flor que possui mais erros nas classificações?***"
   ]
  },
  {
   "cell_type": "markdown",
   "metadata": {},
   "source": [
    "As iris com maior percentual de erros foram as **iris-virginica**. O *'Modelo1'* errou em classificar apenas **1** iris-virginica, mas o *'Modelo2'* errou em classificar **6** iris-virginicas."
   ]
  },
  {
   "cell_type": "markdown",
   "metadata": {},
   "source": [
    "##### ***Qual o modelo se saiu melhor em classificação as flores?***\n",
    "\n",
    "O melhor modelo foi escolhido baseado na metrica de avaliação da acuracia; os resultados dos modelos foram:\n",
    "\n",
    "**Acurácia do 'Modelo1':**\n",
    "- *0.99%*\n",
    "\n",
    "**Acurácia do 'Modelo2':**\n",
    "- *0.96%*\n",
    "\n",
    "Sendo assim, o modelo que mais se aproximou de uma acurácia de 1.00% foi o 'Modelo1' e foi escolhido como o melhor modelo a ser utilizado."
   ]
  }
 ],
 "metadata": {
  "interpreter": {
   "hash": "ecf5722fdaf1897a315d257d89d94520bfcaa453217d5becf09b39e73618b0de"
  },
  "kernelspec": {
   "display_name": "Python 3.8.5 ('base')",
   "language": "python",
   "name": "python3"
  },
  "language_info": {
   "codemirror_mode": {
    "name": "ipython",
    "version": 3
   },
   "file_extension": ".py",
   "mimetype": "text/x-python",
   "name": "python",
   "nbconvert_exporter": "python",
   "pygments_lexer": "ipython3",
   "version": "3.8.8"
  },
  "orig_nbformat": 4
 },
 "nbformat": 4,
 "nbformat_minor": 2
}
